{
 "cells": [
  {
   "cell_type": "code",
   "execution_count": null,
   "metadata": {
    "execution": {
     "iopub.execute_input": "2025-01-16T16:25:25.160261Z",
     "iopub.status.busy": "2025-01-16T16:25:25.159720Z",
     "iopub.status.idle": "2025-01-16T16:27:17.459481Z",
     "shell.execute_reply": "2025-01-16T16:27:17.457966Z",
     "shell.execute_reply.started": "2025-01-16T16:25:25.160214Z"
    },
    "trusted": true
   },
   "outputs": [],
   "source": [
    "!pip install datasets\n",
    "!pip install evaluate\n",
    "!pip install -q git+https://github.com/huggingface/transformers.git\n",
    "!pip install -q -U git+https://github.com/huggingface/peft.git\n",
    "!pip install -q -U git+https://github.com/huggingface/accelerate.git\n",
    "!pip install -U bitsandbytes\n",
    "# !pip install -q git+https://github.com/gmihaila/ml_things.git\n",
    "!pip install trl\n",
    "!pip install arabert\n",
    "!pip install wandb\n",
    "# !pip install shap\n",
    "!pip install captum"
   ]
  },
  {
   "cell_type": "code",
   "execution_count": 2,
   "metadata": {
    "execution": {
     "iopub.execute_input": "2025-01-16T16:27:17.462099Z",
     "iopub.status.busy": "2025-01-16T16:27:17.461620Z",
     "iopub.status.idle": "2025-01-16T16:27:46.681315Z",
     "shell.execute_reply": "2025-01-16T16:27:46.679877Z",
     "shell.execute_reply.started": "2025-01-16T16:27:17.462061Z"
    },
    "trusted": true,
    "vscode": {
     "languageId": "plaintext"
    }
   },
   "outputs": [
    {
     "name": "stdout",
     "output_type": "stream",
     "text": [
      "pytorch version 2.5.1+cu121\n"
     ]
    }
   ],
   "source": [
    "from datasets import Dataset, load_dataset\n",
    "import evaluate\n",
    "from transformers import (GPT2Tokenizer,\n",
    "                          AutoTokenizer,\n",
    "                          GPT2LMHeadModel,\n",
    "                          AutoModelForSequenceClassification,\n",
    "                          AutoModelForCausalLM,\n",
    "                          TrainingArguments,\n",
    "                          Trainer,\n",
    "                          BitsAndBytesConfig,\n",
    "                          pipeline,\n",
    "                          logging)\n",
    "from transformers import logging as hf_logging\n",
    "\n",
    "import torch.nn.functional as F\n",
    "\n",
    "from peft import prepare_model_for_kbit_training\n",
    "from peft import LoraConfig, get_peft_model\n",
    "\n",
    "import bitsandbytes as bnb\n",
    "\n",
    "import pandas as pd\n",
    "import numpy as np\n",
    "import torch\n",
    "\n",
    "from tqdm.auto import tqdm\n",
    "from tqdm import tqdm\n",
    "\n",
    "# from trl import SFTTrainer\n",
    "# from trl import setup_chat_format\n",
    "\n",
    "# import bitsandbytes\n",
    "import os\n",
    "import string\n",
    "import json\n",
    "import re\n",
    "import time\n",
    "import random\n",
    "import warnings\n",
    "import logging\n",
    "from collections import defaultdict\n",
    "from typing import List\n",
    "from pathlib import Path\n",
    "\n",
    "from sklearn.model_selection import train_test_split\n",
    "from sklearn.metrics import (accuracy_score,\n",
    "                             f1_score,\n",
    "                             classification_report,\n",
    "                             confusion_matrix,\n",
    "                             auc)\n",
    "\n",
    "from huggingface_hub import login\n",
    "from arabert.preprocess import ArabertPreprocessor\n",
    "\n",
    "import matplotlib as mpl\n",
    "import matplotlib.pyplot as plt\n",
    "from matplotlib.colors import Normalize, rgb2hex\n",
    "from matplotlib.ticker import PercentFormatter \n",
    "from IPython.display import HTML\n",
    "from pylab import rcParams\n",
    "import seaborn as sns\n",
    "\n",
    "print(f\"pytorch version {torch.__version__}\")"
   ]
  },
  {
   "cell_type": "code",
   "execution_count": 3,
   "metadata": {
    "execution": {
     "iopub.execute_input": "2025-01-16T16:27:46.684683Z",
     "iopub.status.busy": "2025-01-16T16:27:46.683957Z",
     "iopub.status.idle": "2025-01-16T16:27:46.691893Z",
     "shell.execute_reply": "2025-01-16T16:27:46.690446Z",
     "shell.execute_reply.started": "2025-01-16T16:27:46.684648Z"
    },
    "trusted": true,
    "vscode": {
     "languageId": "plaintext"
    }
   },
   "outputs": [],
   "source": [
    "def random_seed(seed_value, use_cuda):\n",
    "    np.random.seed(seed_value)  # CPU vars\n",
    "    torch.manual_seed(seed_value)  # CPU vars\n",
    "    random.seed(seed_value)  # Python random seed\n",
    "    if use_cuda:\n",
    "        torch.cuda.manual_seed(seed_value)\n",
    "        torch.cuda.manual_seed_all(seed_value)  # GPU vars\n",
    "        torch.backends.cudnn.deterministic = True\n",
    "        torch.backends.cudnn.benchmark = False\n",
    "        \n",
    "def compute_metrics(eval_pred):\n",
    "    predictions, labels = eval_pred\n",
    "    predictions = np.argmax(predictions, axis=1)\n",
    "    return metric.compute(predictions=predictions, references=labels)\n",
    "\n",
    "def format_duration(total_time):\n",
    "    time_delta = timedelta(seconds=total_time)\n",
    "    hours, remainder = divmod(time_delta.seconds, 3600)\n",
    "    minutes, seconds = divmod(remainder, 60)\n",
    "    return \"{} hours, {} minutes, {} seconds\".format(hours, minutes, seconds)"
   ]
  },
  {
   "cell_type": "code",
   "execution_count": 4,
   "metadata": {
    "execution": {
     "iopub.execute_input": "2025-01-16T16:27:46.693769Z",
     "iopub.status.busy": "2025-01-16T16:27:46.693471Z",
     "iopub.status.idle": "2025-01-16T16:27:46.745840Z",
     "shell.execute_reply": "2025-01-16T16:27:46.744639Z",
     "shell.execute_reply.started": "2025-01-16T16:27:46.693744Z"
    },
    "trusted": true,
    "vscode": {
     "languageId": "plaintext"
    }
   },
   "outputs": [
    {
     "name": "stdout",
     "output_type": "stream",
     "text": [
      "Device: cpu\n"
     ]
    }
   ],
   "source": [
    " # Set the seed\n",
    "SEED = 42\n",
    "random_seed(SEED, torch.cuda.is_available())\n",
    "\n",
    "# Set the device\n",
    "device = torch.device(\"cuda:0\" if torch.cuda.is_available() else \"cpu\")\n",
    "print(\"Device:\", device)"
   ]
  },
  {
   "cell_type": "markdown",
   "metadata": {},
   "source": [
    "# Dataset"
   ]
  },
  {
   "cell_type": "code",
   "execution_count": 32,
   "metadata": {
    "execution": {
     "iopub.execute_input": "2025-01-16T16:40:18.483726Z",
     "iopub.status.busy": "2025-01-16T16:40:18.483247Z",
     "iopub.status.idle": "2025-01-16T16:40:18.498047Z",
     "shell.execute_reply": "2025-01-16T16:40:18.496665Z",
     "shell.execute_reply.started": "2025-01-16T16:40:18.483697Z"
    },
    "trusted": true,
    "vscode": {
     "languageId": "plaintext"
    }
   },
   "outputs": [],
   "source": [
    "import pandas as pd\n",
    "import numpy as np\n",
    "import matplotlib.pyplot as plt\n",
    "import seaborn as sns\n",
    "from sklearn.model_selection import train_test_split\n",
    "from matplotlib.ticker import PercentFormatter\n",
    "\n",
    "class HardDataset:\n",
    "    def __init__(self, data_path, seed=42, use_subset=False):\n",
    "        \"\"\"\n",
    "        Initializes the dataset class.\n",
    "        \n",
    "        Args:\n",
    "            data_path (str): The path to the dataset file.\n",
    "            seed (int): Random seed for reproducibility.\n",
    "            use_subset (bool): Whether to use a subset of the dataset or the entire dataset.\n",
    "        \"\"\"\n",
    "        self.data_path = data_path\n",
    "        self.seed = seed\n",
    "        self.use_subset = use_subset\n",
    "        self.df = None\n",
    "\n",
    "    def load_data(self):\n",
    "        \"\"\"\n",
    "        Load the data from a TSV file and retain only the 'rating' and 'review' columns.\n",
    "        Also, transform the 'rating' to a binary label (positive/negative).\n",
    "        \n",
    "        Returns:\n",
    "            pd.DataFrame: The loaded and preprocessed DataFrame.\n",
    "        \"\"\"\n",
    "        # Load the dataset\n",
    "        self.df = pd.read_csv(self.data_path, delimiter='\\t')\n",
    "\n",
    "        # Keep only 'rating' and 'review' columns\n",
    "        self.df = self.df[['rating', 'review']]\n",
    "\n",
    "        # Code rating: positive (1) if rating > 3, negative (0) if rating < 3\n",
    "        self.df['rating'] = self.df['rating'].apply(lambda x: 0 if x < 3 else 1)\n",
    "\n",
    "        # Rename columns for consistency with standard text classification format\n",
    "        self.df.columns = ['label', 'text']\n",
    "        print(f\"Initial dataset length: {len(self.df)}\")\n",
    "\n",
    "        # Apply the subset logic if needed\n",
    "        if self.use_subset:\n",
    "            self.df = self.filter_and_sample_data(self.df)\n",
    "\n",
    "        return self.df\n",
    "\n",
    "    def filter_and_sample_data(self, df):\n",
    "        \"\"\"\n",
    "        Filter and sample the dataset based on word count and class balance.\n",
    "        \n",
    "        Args:\n",
    "            df (pd.DataFrame): The full dataset before filtering.\n",
    "        \n",
    "        Returns:\n",
    "            pd.DataFrame: The filtered and balanced DataFrame.\n",
    "        \"\"\"\n",
    "        print(\"\\nFiltering dataset based on word count and label balance...\")\n",
    "        # Remove instances with word count greater than 100\n",
    "        df[\"word_count\"] = df['text'].apply(lambda x: len(x.split()))\n",
    "        df = df[df['word_count'] < 100]\n",
    "        print(f\"Dataset length after word count filter: {len(df)}\")\n",
    "\n",
    "        # Limit samples per label to max_samples\n",
    "        max_samples = 7000\n",
    "        df_sampled = df.groupby(\"label\")[[\"text\", \"label\"]].apply(\n",
    "            lambda x: x.sample(n=min(len(x), max_samples))\n",
    "        )\n",
    "        df_sampled = df_sampled.reset_index(drop=True)\n",
    "\n",
    "        print(f\"Dataset length after class balancing: {len(df_sampled)}\")\n",
    "        return df_sampled\n",
    "\n",
    "    def analyze_data(self):\n",
    "        \"\"\"\n",
    "        Perform exploratory data analysis on the dataset.\n",
    "        This includes visualizing label distribution and word count distribution.\n",
    "        \"\"\"\n",
    "        if self.df is None:\n",
    "            raise ValueError(\"Data not loaded. Please call 'load_data()' first.\")\n",
    "\n",
    "        # Show label distribution\n",
    "        label_counts = self.df['label'].value_counts()\n",
    "        print(\"\\nLabel Distribution:\")\n",
    "        print(label_counts)\n",
    "\n",
    "        # Visualize label distribution\n",
    "        plt.figure(figsize=(6, 4))\n",
    "        sns.barplot(x=label_counts.index, y=label_counts.values, palette=\"viridis\")\n",
    "        plt.title(\"Label Distribution\")\n",
    "        plt.xlabel(\"Label\")\n",
    "        plt.ylabel(\"Count\")\n",
    "        plt.xticks([0, 1], ['Negative', 'Positive'])\n",
    "        plt.show()\n",
    "\n",
    "    def split_data(self):\n",
    "        \"\"\"\n",
    "        Split the dataset into train, validation, and test sets.\n",
    "        \n",
    "        Returns:\n",
    "            pd.DataFrame: Train, validation, and test datasets as separate DataFrames.\n",
    "        \"\"\"\n",
    "        # Split the data into train, validation, and test sets\n",
    "        train_df, temp_df = train_test_split(self.df, test_size=0.2, random_state=self.seed)\n",
    "        val_df, test_df = train_test_split(temp_df, test_size=0.5, random_state=self.seed)\n",
    "\n",
    "        print(f\"Train shape: {train_df.shape}\")\n",
    "        print(f\"Validation shape: {val_df.shape}\")\n",
    "        print(f\"Test shape: {test_df.shape}\")\n",
    "\n",
    "        return train_df, val_df, test_df"
   ]
  },
  {
   "cell_type": "code",
   "execution_count": 38,
   "metadata": {
    "execution": {
     "iopub.execute_input": "2025-01-16T16:41:10.229488Z",
     "iopub.status.busy": "2025-01-16T16:41:10.229191Z",
     "iopub.status.idle": "2025-01-16T16:41:11.816401Z",
     "shell.execute_reply": "2025-01-16T16:41:11.815123Z",
     "shell.execute_reply.started": "2025-01-16T16:41:10.229462Z"
    },
    "trusted": true,
    "vscode": {
     "languageId": "plaintext"
    }
   },
   "outputs": [
    {
     "name": "stdout",
     "output_type": "stream",
     "text": [
      "Initial dataset length: 105698\n",
      "\n",
      "Filtering dataset based on word count and label balance...\n",
      "Dataset length after word count filter: 103804\n",
      "Dataset length after class balancing: 14000\n",
      "\n",
      "Label Distribution:\n",
      "label\n",
      "0    7000\n",
      "1    7000\n",
      "Name: count, dtype: int64\n"
     ]
    },
    {
     "data": {
      "image/png": "[encoded data removed]",
      "text/plain": [
       "<Figure size 600x400 with 1 Axes>"
      ]
     },
     "metadata": {},
     "output_type": "display_data"
    },
    {
     "name": "stdout",
     "output_type": "stream",
     "text": [
      "Train shape: (11200, 2)\n",
      "Validation shape: (1400, 2)\n",
      "Test shape: (1400, 2)\n"
     ]
    }
   ],
   "source": [
    "DATASET_PATH = \"data/arabic-sa-hard-dataset/balanced-reviews-utf8.tsv\"\n",
    "# Initialize the dataset class\n",
    "# To use the whole dataset set use_subset to False\n",
    "dataset = HardDataset(data_path=DATASET_PATH, seed=42, use_subset=True)\n",
    "\n",
    "# Load data\n",
    "df = dataset.load_data()\n",
    "\n",
    "# Optionally analyze the data\n",
    "dataset.analyze_data()\n",
    "\n",
    "# Split data into train, validation, and test sets\n",
    "train_df, val_df, test_df = dataset.split_data()"
   ]
  },
  {
   "cell_type": "code",
   "execution_count": 39,
   "metadata": {
    "execution": {
     "iopub.execute_input": "2025-01-16T16:41:11.819215Z",
     "iopub.status.busy": "2025-01-16T16:41:11.818790Z",
     "iopub.status.idle": "2025-01-16T16:41:11.828576Z",
     "shell.execute_reply": "2025-01-16T16:41:11.827199Z",
     "shell.execute_reply.started": "2025-01-16T16:41:11.819186Z"
    },
    "trusted": true,
    "vscode": {
     "languageId": "plaintext"
    }
   },
   "outputs": [],
   "source": [
    "def create_prompt(text: str, label: str = None):\n",
    "    # Formulate the text with a specific instruction for classification\n",
    "    prompt = \"\"\"\n",
    "You will be given an Arabic hotel review. Your task is to classify it as one of the labels in the list: positive, negative. Output the label only, and nothing else.\n",
    "<text>\n",
    "{text}\n",
    "</text>\n",
    "Answer: {label}\n",
    "\"\"\".strip()\n",
    "    return prompt.format(text=text, label=label)\n",
    "\n",
    "# Mapping dictionary\n",
    "def create_dataset(df):\n",
    "    \"\"\"\n",
    "    Create a dataset for training, validation, or testing.\n",
    "    If is_test=True, exclude the label from the prompt.\n",
    "    If not, map the raw labels (0, 1) to strings ('negative', 'positive').\n",
    "    \"\"\"\n",
    "    label_map = {1: \"positive\", 0: \"negative\"}\n",
    "    rows = []\n",
    "    for _, row in tqdm(df.iterrows()):\n",
    "        label = label_map[row.label]  # Map raw labels to strings\n",
    "        rows.append(\n",
    "            {\n",
    "                \"input\": create_prompt(row.text, label),\n",
    "                \"output\": label \n",
    "            }\n",
    "        )\n",
    "    return rows"
   ]
  },
  {
   "cell_type": "code",
   "execution_count": 40,
   "metadata": {
    "execution": {
     "iopub.execute_input": "2025-01-16T16:41:11.830645Z",
     "iopub.status.busy": "2025-01-16T16:41:11.830327Z",
     "iopub.status.idle": "2025-01-16T16:41:12.870251Z",
     "shell.execute_reply": "2025-01-16T16:41:12.868541Z",
     "shell.execute_reply.started": "2025-01-16T16:41:11.830620Z"
    },
    "trusted": true,
    "vscode": {
     "languageId": "plaintext"
    }
   },
   "outputs": [
    {
     "name": "stderr",
     "output_type": "stream",
     "text": [
      "11200it [00:00, 14524.64it/s]\n"
     ]
    },
    {
     "name": "stdout",
     "output_type": "stream",
     "text": [
      "You will be given an Arabic hotel review. Your task is to classify it as one of the labels in the list: positive, negative. Output the label only, and nothing else.\n",
      "<text>\n",
      "“فندق رائع”. تعاون الموظفين كان رائعا كان لي بعض التعليقات على مستوى الاثاث ولكن ادارة الفندق اسرعت بتغير كل ما يلزم في الغرفه مع الكرم الاضافي بلا مقابل المدير متعاون الى ابعد درجه. بعض اثاث الغرفه يحتاج الى تغير ككراسي الضيافه المصاعد لم تكن كلها تعمل مما تسبب في الزحام والتكدس الزائد عند كل صلاه\n",
      "</text>\n",
      "Answer: positive \n",
      "\n"
     ]
    },
    {
     "name": "stderr",
     "output_type": "stream",
     "text": [
      "1400it [00:00, 14942.42it/s]\n"
     ]
    },
    {
     "name": "stdout",
     "output_type": "stream",
     "text": [
      "You will be given an Arabic hotel review. Your task is to classify it as one of the labels in the list: positive, negative. Output the label only, and nothing else.\n",
      "<text>\n",
      "ضعيف جداً. . لا يستحق 5 نجوم\n",
      "</text>\n",
      "Answer: negative \n",
      "\n"
     ]
    }
   ],
   "source": [
    "# df_pandas_test['label'] = df_pandas_test['label'].replace({1: 'positive', 0: 'negative'})\n",
    "train_rows = create_dataset(train_df)\n",
    "Path(\"hard_train_data.json\").write_text(json.dumps(train_rows))\n",
    "print(train_rows[0][\"input\"], \"\\n\")\n",
    "\n",
    "dev_rows = create_dataset(val_df)\n",
    "Path(\"hard_dev_data.json\").write_text(json.dumps(dev_rows))\n",
    "print(dev_rows[1][\"input\"], \"\\n\")"
   ]
  },
  {
   "cell_type": "code",
   "execution_count": 41,
   "metadata": {
    "execution": {
     "iopub.execute_input": "2025-01-16T16:41:12.872796Z",
     "iopub.status.busy": "2025-01-16T16:41:12.872330Z",
     "iopub.status.idle": "2025-01-16T16:41:13.033841Z",
     "shell.execute_reply": "2025-01-16T16:41:13.032333Z",
     "shell.execute_reply.started": "2025-01-16T16:41:12.872756Z"
    },
    "trusted": true
   },
   "outputs": [
    {
     "name": "stderr",
     "output_type": "stream",
     "text": [
      "1400it [00:00, 10521.12it/s]"
     ]
    },
    {
     "name": "stdout",
     "output_type": "stream",
     "text": [
      "You will be given an Arabic hotel review. Your task is to classify it as one of the labels in the list: positive, negative. Output the label only, and nothing else.\n",
      "<text>\n",
      "“الموقع ممتاز اكن الغرفة صغيره جدا”. موقع مميز قريب من الحرم دقائق معدودة والفندق نظيف والاثاث يعتبر جديد. غرفه صغيره جدا الباب لم يفتح بالبطاقه الذكيه كل مره ندخل فيها للغرفة لا يفتح الباب لمدة يومين ونتظطر للانتظار والنزول للاستقبال ولا يفتح الا بالمستر كي وخدمة حامل الحقائب تأخر علينا ونزلت وانا احمل جميع حقائبي وغير ذلك لا يوجد ملاحظات\n",
      "</text>\n",
      "Answer: \n",
      "\n"
     ]
    },
    {
     "name": "stderr",
     "output_type": "stream",
     "text": [
      "\n"
     ]
    }
   ],
   "source": [
    "def create_prompt(text: str, label: str = None):\n",
    "    # Formulate the text with a specific instruction for classification\n",
    "    prompt = \"\"\"\n",
    "You will be given an Arabic hotel review. Your task is to classify it as one of the labels in the list: positive, negative. Output the label only, and nothing else.\n",
    "<text>\n",
    "{text}\n",
    "</text>\n",
    "Answer:\n",
    "\"\"\".strip()\n",
    "    return prompt.format(text=text, label=label)\n",
    "    \n",
    "test_rows = create_dataset(test_df)\n",
    "Path(\"hard_test_data.json\").write_text(json.dumps(test_rows))\n",
    "\n",
    "print(test_rows[0][\"input\"], \"\\n\")"
   ]
  },
  {
   "cell_type": "markdown",
   "metadata": {},
   "source": [
    "# Model Loading and Fine-tuning"
   ]
  },
  {
   "cell_type": "code",
   "execution_count": 43,
   "metadata": {
    "execution": {
     "iopub.execute_input": "2025-01-16T16:42:56.693447Z",
     "iopub.status.busy": "2025-01-16T16:42:56.693073Z",
     "iopub.status.idle": "2025-01-16T16:42:56.707622Z",
     "shell.execute_reply": "2025-01-16T16:42:56.706013Z",
     "shell.execute_reply.started": "2025-01-16T16:42:56.693419Z"
    },
    "trusted": true,
    "vscode": {
     "languageId": "plaintext"
    }
   },
   "outputs": [],
   "source": [
    "# --- Configuration Functions ---\n",
    "def setup_tokenizer(model_id: str):\n",
    "    \"\"\"Sets up the tokenizer for the model.\"\"\"\n",
    "    tokenizer = AutoTokenizer.from_pretrained(model_id, trust_remote_code=True)\n",
    "    print(\"Vocabulary size:\", len(tokenizer))\n",
    "    tokenizer.pad_token = tokenizer.eos_token\n",
    "    tokenizer.padding_side = \"right\"\n",
    "    return tokenizer\n",
    "\n",
    "def setup_quantization():\n",
    "    \"\"\"Sets up the quantization configuration.\"\"\"\n",
    "    nf4_config = BitsAndBytesConfig(\n",
    "        load_in_4bit=True, # Enables 4-bit quantization of the base model to reduce memory usage.\n",
    "        bnb_4bit_quant_type=\"nf4\", #  The quantization type (\"nf4\" is a common choice)\n",
    "        bnb_4bit_use_double_quant=True, # Enables nested quantization (double quantization) for further memory reduction.\n",
    "        bnb_4bit_compute_dtype=torch.bfloat16 # Specifies the data type for computations during training (float16 in this case).\n",
    "    )\n",
    "    return nf4_config\n",
    "\n",
    "def setup_model(model_id: str, nf4_config):\n",
    "    \"\"\"Loads the model with quantization and configuration.\"\"\"\n",
    "    model = AutoModelForCausalLM.from_pretrained(\n",
    "        model_id,\n",
    "        quantization_config=nf4_config\n",
    "    )\n",
    "    model.config.use_cache = False\n",
    "    model.gradient_checkpointing_enable()\n",
    "    model = prepare_model_for_kbit_training(model)\n",
    "    return model\n",
    "\n",
    "def setup_lora(modules):\n",
    "    \"\"\"Sets up the LoRA configuration.\"\"\"\n",
    "    lora_config = LoraConfig(\n",
    "        r=64,  # 8\n",
    "        lora_alpha=16, \n",
    "        target_modules=modules, # check target_modules for any model (see function target_modules)\n",
    "        lora_dropout=0.1, # 0.05 increase (e.g., 0.2-0.3) for small datasets or noisy data.\n",
    "        bias=\"none\",\n",
    "        task_type=\"CAUSAL_LM\"\n",
    "    )\n",
    "    return lora_config\n",
    "\n",
    "def print_trainable_parameters(model):\n",
    "    \"\"\"Prints the number of trainable parameters in the model.\"\"\"\n",
    "    trainable_params = 0\n",
    "    all_param = 0\n",
    "    for _, param in model.named_parameters():\n",
    "        all_param += param.numel()\n",
    "        if param.requires_grad:\n",
    "            trainable_params += param.numel()\n",
    "    print(f\"Trainable params: {trainable_params} || Total params: {all_param} || Trainable%: {100 * trainable_params / all_param:.2f}\")\n",
    "\n",
    "# --- Main Training Function ---\n",
    "\n",
    "def train_model(model, task: str, modules, train_dataset, val_dataset):\n",
    "    \"\"\"Handles the entire training process.\"\"\"\n",
    "    os.environ[\"WANDB_PROJECT\"] = f\"model_name{task}\"\n",
    "    os.environ[\"WANDB_LOG_MODEL\"] = \"checkpoint\"\n",
    "    # Apply LoRA\n",
    "    model.enable_input_require_grads()\n",
    "    model = get_peft_model(model, lora_config)\n",
    "    print_trainable_parameters(model)\n",
    "    model = model.to(device)\n",
    "    model.hf_device_map\n",
    "\n",
    "    # Create Trainer instance\n",
    "    trainer = SFTTrainer(\n",
    "        model=model,\n",
    "        tokenizer=tokenizer,\n",
    "        train_dataset=train_dataset,\n",
    "        eval_dataset=val_dataset,\n",
    "        args = SFTConfig(\n",
    "            dataset_text_field =\"input\",\n",
    "            # max_seq_length=512,\n",
    "            output_dir=f\"model_name{task}\",\n",
    "            eval_strategy=\"epoch\",\n",
    "            save_strategy=\"epoch\", \n",
    "            # eval_steps = 0.2\n",
    "            learning_rate=2e-4, # 2e-5 learning rate, based on QLoRA paper 2e-4\n",
    "            per_device_train_batch_size=4, #\n",
    "            per_device_eval_batch_size=4,\n",
    "            gradient_accumulation_steps=1,            # number of steps before performing a backward/update pass\n",
    "            # gradient_checkpointing=True,              # use gradient checkpointing to save memory\n",
    "            optim=\"paged_adamw_32bit\",\n",
    "            fp16=True,\n",
    "            bf16=False,\n",
    "            num_train_epochs=3, \n",
    "            weight_decay=0.001, # Lower (e.g., 0.001) if underfitting or noisy datasets.\n",
    "            max_grad_norm=0.3,                        # max gradient norm based on QLoRA paper\n",
    "            max_steps=-1,\n",
    "            # group_by_length=False,\n",
    "            lr_scheduler_type=\"cosine\",               # use cosine learning rate scheduler\n",
    "            warmup_ratio=0.03,                        # warmup ratio based on QLoRA paper\n",
    "            logging_dir=\"./logs\",\n",
    "            logging_steps=50, # try 1\n",
    "            report_to=\"wandb\",\n",
    "            push_to_hub=True,\n",
    "            packing=False,\n",
    "        ),\n",
    "        peft_config=lora_config,\n",
    "        # dataset_kwargs={\n",
    "        #     \"add_special_tokens\": False,\n",
    "        #     \"append_concat_token\": False\n",
    "        # }\n",
    "    )\n",
    "\n",
    "    # Train the model\n",
    "    start_time = time.time()\n",
    "    trainer.train()\n",
    "    end_time = time.time()\n",
    "\n",
    "    total_time = end_time - start_time\n",
    "    print(f\"Training completed in {total_time:.2f} seconds\")"
   ]
  },
  {
   "cell_type": "code",
   "execution_count": null,
   "metadata": {
    "vscode": {
     "languageId": "plaintext"
    }
   },
   "outputs": [],
   "source": [
    "# Building the model\n",
    "def find_all_linear_names(model):\n",
    "    cls = bnb.nn.Linear4bit\n",
    "    lora_module_names = set()\n",
    "    for name, module in model.named_modules():\n",
    "        if isinstance(module, cls):\n",
    "            names = name.split('.')\n",
    "            lora_module_names.add(names[0] if len(names) == 1 else names[-1])\n",
    "    if 'lm_head' in lora_module_names:  # needed for 16 bit\n",
    "        lora_module_names.remove('lm_head')\n",
    "    return list(lora_module_names)"
   ]
  },
  {
   "cell_type": "code",
   "execution_count": null,
   "metadata": {
    "trusted": true,
    "vscode": {
     "languageId": "plaintext"
    }
   },
   "outputs": [],
   "source": [
    "if __name__ == \"__main__\":\n",
    "    login(token=\"your_hf\") # write token\n",
    "    !wandb login your_wandb_token\n",
    "    model_id = \"meta-llama/Llama-3.2-3B-Instruct\"\n",
    "    task = \"ASA\" # Arabic Sentiment Analysis\n",
    "\n",
    "    train_dataset = Dataset.from_list(train_rows)\n",
    "    dev_dataset = Dataset.from_list(dev_rows)\n",
    "\n",
    "    tokenizer = setup_tokenizer(model_id)\n",
    "    nf4_config = setup_quantization()\n",
    "    model = setup_model(model_id, nf4_config)\n",
    "    model = model.to(device)\n",
    "    modules = find_all_linear_names(model)\n",
    "    lora_config = setup_lora(modules)\n",
    "    # train_model(p_model, task, formatting_prompts_func_sst2, modules)\n",
    "    train_model(model, task, modules, train_dataset, dev_dataset)"
   ]
  },
  {
   "cell_type": "markdown",
   "metadata": {},
   "source": [
    "# Inference"
   ]
  },
  {
   "cell_type": "code",
   "execution_count": null,
   "metadata": {
    "trusted": true
   },
   "outputs": [],
   "source": [
    "# Load finetuned model from huggingface\n",
    "login(token=\"your_hf_token\") \n",
    "model_id = \"\"\n",
    "tokenizer = AutoTokenizer.from_pretrained(model_id, trust_remote_code=True)\n",
    "nf4_config = setup_quantization()\n",
    "model = AutoModelForCausalLM.from_pretrained(\n",
    "        model_id,\n",
    "        quantization_config=nf4_config\n",
    "        ).to(device)\n",
    "model.config.use_cache = False"
   ]
  },
  {
   "cell_type": "code",
   "execution_count": null,
   "metadata": {
    "vscode": {
     "languageId": "plaintext"
    }
   },
   "outputs": [],
   "source": [
    "# One instance\n",
    "%%time\n",
    "tokenizer.pad_token = tokenizer.eos_token\n",
    "inp_test = test_rows[0][\"input\"]\n",
    "messages = [{\"role\": \"user\", \"content\": inp_test}]\n",
    "content = messages[0][\"content\"]\n",
    "inputs = tokenizer(content, return_tensors=\"pt\", padding=True, truncation=True).to(device)\n",
    "outputs = model.generate(**inputs, max_new_tokens=1, temperature=0.000001, pad_token_id=tokenizer.eos_token_id)\n",
    "generated_text = tokenizer.decode(outputs[0], skip_special_tokens=True)\n",
    "print(generated_text)\n",
    "parts = [part.strip() for part in generated_text.split(\"Answer:\") if part.strip()]\n",
    "\n",
    "\n",
    "regex = r\"^\\W+|\\W+$\"\n",
    "prediction = re.sub(regex, \"\", parts[-1])\n",
    "print(prediction)"
   ]
  },
  {
   "cell_type": "code",
   "execution_count": null,
   "metadata": {
    "vscode": {
     "languageId": "plaintext"
    }
   },
   "outputs": [],
   "source": [
    "%%time\n",
    "tokenizer.pad_token = tokenizer.eos_token\n",
    "predictions = []\n",
    "true_values = []\n",
    "for row in tqdm(test_rows):\n",
    "    messages = [{\"role\": \"user\", \"content\": row[\"input\"]}]\n",
    "    content = messages[0][\"content\"]\n",
    "    inputs = tokenizer(content, return_tensors=\"pt\", padding=True, truncation=True).to(device)\n",
    "    outputs = model.generate(**inputs, max_new_tokens=1, temperature=0.000001, pad_token_id=tokenizer.eos_token_id)\n",
    "    generated_text = tokenizer.decode(outputs[0], skip_special_tokens=True)\n",
    "    parts = [part.strip() for part in generated_text.split(\"Answer:\") if part.strip()]\n",
    "    predictions.append(parts[-1])\n",
    "    true_values.append(row[\"output\"])\n",
    "\n",
    "regex = r\"^\\W+|\\W+$\"\n",
    "predictions = [re.sub(regex, \"\", p) for p in predictions]\n",
    "len(true_values), len(predictions)\n",
    "pd.Series(predictions).value_counts()"
   ]
  },
  {
   "cell_type": "code",
   "execution_count": null,
   "metadata": {
    "vscode": {
     "languageId": "plaintext"
    }
   },
   "outputs": [],
   "source": [
    "# if the model generated classes that doesn't exist\n",
    "class_names = ['positive', 'negative']\n",
    "eval_df = pd.DataFrame().from_dict({\"label\":true_values, \"prediction\":predictions})\n",
    "len(eval_df[~eval_df.prediction.isin(class_names)]) # check ...\n",
    "eval_df = eval_df[eval_df.prediction.isin(class_names)] # remove if len > 0"
   ]
  },
  {
   "cell_type": "code",
   "execution_count": null,
   "metadata": {
    "vscode": {
     "languageId": "plaintext"
    }
   },
   "outputs": [],
   "source": [
    "print(accuracy_score(true_values, predictions))\n",
    "print(classification_report(eval_df.label, eval_df.prediction))"
   ]
  },
  {
   "cell_type": "code",
   "execution_count": null,
   "metadata": {
    "vscode": {
     "languageId": "plaintext"
    }
   },
   "outputs": [],
   "source": [
    "# Generate the confusion matrix\n",
    "cm = confusion_matrix(eval_df.label, eval_df.prediction, labels=class_names)\n",
    "\n",
    "# Plot the confusion matrix\n",
    "plt.figure(figsize=(8, 6))\n",
    "sns.heatmap(cm, annot=True, fmt='d', cmap='Blues', xticklabels=class_names, yticklabels=class_names)\n",
    "plt.xlabel('Predicted Labels')\n",
    "plt.ylabel('True Labels')\n",
    "plt.title('Confusion Matrix')\n",
    "plt.show()"
   ]
  }
 ],
 "metadata": {
  "kaggle": {
   "accelerator": "none",
   "dataSources": [
    {
     "datasetId": 5053607,
     "sourceId": 8474503,
     "sourceType": "datasetVersion"
    }
   ],
   "dockerImageVersionId": 30839,
   "isGpuEnabled": false,
   "isInternetEnabled": true,
   "language": "python",
   "sourceType": "notebook"
  },
  "kernelspec": {
   "display_name": "Python 3",
   "language": "python",
   "name": "python3"
  },
  "language_info": {
   "codemirror_mode": {
    "name": "ipython",
    "version": 3
   },
   "file_extension": ".py",
   "mimetype": "text/x-python",
   "name": "python",
   "nbconvert_exporter": "python",
   "pygments_lexer": "ipython3",
   "version": "3.10.12"
  }
 },
 "nbformat": 4,
 "nbformat_minor": 4
}
